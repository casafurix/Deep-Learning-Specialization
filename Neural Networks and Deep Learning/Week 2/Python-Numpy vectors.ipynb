{
 "cells": [
  {
   "cell_type": "code",
   "execution_count": 1,
   "id": "d9e62ee1",
   "metadata": {},
   "outputs": [
    {
     "name": "stdout",
     "output_type": "stream",
     "text": [
      "[0.99948884 0.76789164 0.13640586 0.37634493 0.5076462 ]\n"
     ]
    }
   ],
   "source": [
    "import numpy as np\n",
    "\n",
    "a = np.random.rand(5) # DON'T USE THESE RANK-1 ARRAYS, THEY CAUSE BUGS!\n",
    "print(a)"
   ]
  },
  {
   "cell_type": "code",
   "execution_count": 2,
   "id": "d992da9c",
   "metadata": {},
   "outputs": [
    {
     "name": "stdout",
     "output_type": "stream",
     "text": [
      "(5,)\n"
     ]
    }
   ],
   "source": [
    "print(a.shape)\n",
    "# here, a is called a rank-1 array in python, and is neither a row/column vector\n",
    "# DON'T USE THESE RANK-1 ARRAYS, THEY CAUSE BUGS!"
   ]
  },
  {
   "cell_type": "code",
   "execution_count": 4,
   "id": "cf70fb1b",
   "metadata": {},
   "outputs": [
    {
     "name": "stdout",
     "output_type": "stream",
     "text": [
      "[0.99948884 0.76789164 0.13640586 0.37634493 0.5076462 ]\n",
      "2.0065822318845883\n"
     ]
    }
   ],
   "source": [
    "# Bugs:\n",
    "print(a.T)\n",
    "print(np.dot(a, a.T))"
   ]
  },
  {
   "cell_type": "code",
   "execution_count": 9,
   "id": "316903a3",
   "metadata": {},
   "outputs": [
    {
     "name": "stdout",
     "output_type": "stream",
     "text": [
      "[[ 0.56403153]\n",
      " [-0.48820927]\n",
      " [ 0.97068066]\n",
      " [-1.72028221]\n",
      " [ 1.18828289]]\n",
      "\n",
      "(5, 1)\n"
     ]
    }
   ],
   "source": [
    "# Fixing the bugs:\n",
    "a = np.random.randn(5, 1)\n",
    "print(a)\n",
    "print()\n",
    "print(a.shape)"
   ]
  },
  {
   "cell_type": "code",
   "execution_count": 6,
   "id": "dc498017",
   "metadata": {},
   "outputs": [
    {
     "name": "stdout",
     "output_type": "stream",
     "text": [
      "[[-0.58575695  0.23408034  0.07952287  2.59181253  0.32887301]]\n"
     ]
    }
   ],
   "source": [
    "print(a.T) #compare this row vector with the rank-1 array, the difference of 2 brackets!"
   ]
  },
  {
   "cell_type": "code",
   "execution_count": 7,
   "id": "9c49124b",
   "metadata": {},
   "outputs": [
    {
     "name": "stdout",
     "output_type": "stream",
     "text": [
      "[[ 3.43111203e-01 -1.37114187e-01 -4.65810716e-02 -1.51817220e+00\n",
      "  -1.92639651e-01]\n",
      " [-1.37114187e-01  5.47936067e-02  1.86147398e-02  6.06692365e-01\n",
      "   7.69827070e-02]\n",
      " [-4.65810716e-02  1.86147398e-02  6.32388630e-03  2.06108362e-01\n",
      "   2.61529246e-02]\n",
      " [-1.51817220e+00  6.06692365e-01  2.06108362e-01  6.71749220e+00\n",
      "   8.52377191e-01]\n",
      " [-1.92639651e-01  7.69827070e-02  2.61529246e-02  8.52377191e-01\n",
      "   1.08157457e-01]]\n"
     ]
    }
   ],
   "source": [
    "# correct dot product gives outer product of the vector, which is a matrix\n",
    "print(np.dot(a, a.T))"
   ]
  },
  {
   "cell_type": "code",
   "execution_count": 12,
   "id": "7ce19359",
   "metadata": {},
   "outputs": [],
   "source": [
    "assert(a.shape == (5, 1)) # gives no error, which means true"
   ]
  },
  {
   "cell_type": "code",
   "execution_count": null,
   "id": "c9f29906",
   "metadata": {},
   "outputs": [],
   "source": [
    "# if we do end up with a rank-1 array, we can use the .reshape() operation to convert it into a (5, 1)/(1, 5) vector/matrix\n",
    "# a.reshape(5, 1)"
   ]
  }
 ],
 "metadata": {
  "kernelspec": {
   "display_name": "Python 3 (ipykernel)",
   "language": "python",
   "name": "python3"
  },
  "language_info": {
   "codemirror_mode": {
    "name": "ipython",
    "version": 3
   },
   "file_extension": ".py",
   "mimetype": "text/x-python",
   "name": "python",
   "nbconvert_exporter": "python",
   "pygments_lexer": "ipython3",
   "version": "3.10.4"
  }
 },
 "nbformat": 4,
 "nbformat_minor": 5
}
